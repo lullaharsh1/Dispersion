{
 "cells": [
  {
   "cell_type": "code",
   "execution_count": 1,
   "metadata": {},
   "outputs": [],
   "source": [
    "import pandas as pd"
   ]
  },
  {
   "cell_type": "code",
   "execution_count": 2,
   "metadata": {},
   "outputs": [
    {
     "ename": "TypeError",
     "evalue": "Cannot convert tz-naive timestamps, use tz_localize to localize",
     "output_type": "error",
     "traceback": [
      "\u001b[1;31m---------------------------------------------------------------------------\u001b[0m",
      "\u001b[1;31mTypeError\u001b[0m                                 Traceback (most recent call last)",
      "Cell \u001b[1;32mIn[2], line 1\u001b[0m\n\u001b[1;32m----> 1\u001b[0m hi \u001b[39m=\u001b[39m pd\u001b[39m.\u001b[39;49mread_parquet(\u001b[39m\"\u001b[39;49m\u001b[39moptions/Nifty_31032022.parquet\u001b[39;49m\u001b[39m\"\u001b[39;49m)\n",
      "File \u001b[1;32mc:\\Users\\Vendor\\AppData\\Local\\Programs\\Python\\Python311\\Lib\\site-packages\\pandas\\io\\parquet.py:509\u001b[0m, in \u001b[0;36mread_parquet\u001b[1;34m(path, engine, columns, storage_options, use_nullable_dtypes, dtype_backend, **kwargs)\u001b[0m\n\u001b[0;32m    506\u001b[0m     use_nullable_dtypes \u001b[39m=\u001b[39m \u001b[39mFalse\u001b[39;00m\n\u001b[0;32m    507\u001b[0m check_dtype_backend(dtype_backend)\n\u001b[1;32m--> 509\u001b[0m \u001b[39mreturn\u001b[39;00m impl\u001b[39m.\u001b[39;49mread(\n\u001b[0;32m    510\u001b[0m     path,\n\u001b[0;32m    511\u001b[0m     columns\u001b[39m=\u001b[39;49mcolumns,\n\u001b[0;32m    512\u001b[0m     storage_options\u001b[39m=\u001b[39;49mstorage_options,\n\u001b[0;32m    513\u001b[0m     use_nullable_dtypes\u001b[39m=\u001b[39;49muse_nullable_dtypes,\n\u001b[0;32m    514\u001b[0m     dtype_backend\u001b[39m=\u001b[39;49mdtype_backend,\n\u001b[0;32m    515\u001b[0m     \u001b[39m*\u001b[39;49m\u001b[39m*\u001b[39;49mkwargs,\n\u001b[0;32m    516\u001b[0m )\n",
      "File \u001b[1;32mc:\\Users\\Vendor\\AppData\\Local\\Programs\\Python\\Python311\\Lib\\site-packages\\pandas\\io\\parquet.py:338\u001b[0m, in \u001b[0;36mFastParquetImpl.read\u001b[1;34m(self, path, columns, storage_options, **kwargs)\u001b[0m\n\u001b[0;32m    335\u001b[0m     path \u001b[39m=\u001b[39m handles\u001b[39m.\u001b[39mhandle\n\u001b[0;32m    337\u001b[0m \u001b[39mtry\u001b[39;00m:\n\u001b[1;32m--> 338\u001b[0m     parquet_file \u001b[39m=\u001b[39m \u001b[39mself\u001b[39;49m\u001b[39m.\u001b[39;49mapi\u001b[39m.\u001b[39;49mParquetFile(path, \u001b[39m*\u001b[39;49m\u001b[39m*\u001b[39;49mparquet_kwargs)\n\u001b[0;32m    339\u001b[0m     \u001b[39mreturn\u001b[39;00m parquet_file\u001b[39m.\u001b[39mto_pandas(columns\u001b[39m=\u001b[39mcolumns, \u001b[39m*\u001b[39m\u001b[39m*\u001b[39mkwargs)\n\u001b[0;32m    340\u001b[0m \u001b[39mfinally\u001b[39;00m:\n",
      "File \u001b[1;32mc:\\Users\\Vendor\\AppData\\Local\\Programs\\Python\\Python311\\Lib\\site-packages\\fastparquet\\api.py:135\u001b[0m, in \u001b[0;36mParquetFile.__init__\u001b[1;34m(self, fn, verify, open_with, root, sep, fs, pandas_nulls, dtypes)\u001b[0m\n\u001b[0;32m    132\u001b[0m \u001b[39melif\u001b[39;00m \u001b[39mhasattr\u001b[39m(fn, \u001b[39m'\u001b[39m\u001b[39mread\u001b[39m\u001b[39m'\u001b[39m):\n\u001b[0;32m    133\u001b[0m     \u001b[39m# file-like\u001b[39;00m\n\u001b[0;32m    134\u001b[0m     \u001b[39mself\u001b[39m\u001b[39m.\u001b[39mfn \u001b[39m=\u001b[39m \u001b[39mNone\u001b[39;00m\n\u001b[1;32m--> 135\u001b[0m     \u001b[39mself\u001b[39;49m\u001b[39m.\u001b[39;49m_parse_header(fn, verify)\n\u001b[0;32m    136\u001b[0m     \u001b[39mif\u001b[39;00m \u001b[39mself\u001b[39m\u001b[39m.\u001b[39mfile_scheme \u001b[39mnot\u001b[39;00m \u001b[39min\u001b[39;00m [\u001b[39m'\u001b[39m\u001b[39msimple\u001b[39m\u001b[39m'\u001b[39m, \u001b[39m'\u001b[39m\u001b[39mempty\u001b[39m\u001b[39m'\u001b[39m]:\n\u001b[0;32m    137\u001b[0m         \u001b[39mraise\u001b[39;00m \u001b[39mValueError\u001b[39;00m(\u001b[39m'\u001b[39m\u001b[39mCannot use file-like input \u001b[39m\u001b[39m'\u001b[39m\n\u001b[0;32m    138\u001b[0m                          \u001b[39m'\u001b[39m\u001b[39mwith multi-file data\u001b[39m\u001b[39m'\u001b[39m)\n",
      "File \u001b[1;32mc:\\Users\\Vendor\\AppData\\Local\\Programs\\Python\\Python311\\Lib\\site-packages\\fastparquet\\api.py:236\u001b[0m, in \u001b[0;36mParquetFile._parse_header\u001b[1;34m(self, f, verify)\u001b[0m\n\u001b[0;32m    234\u001b[0m             chunk[\u001b[39m1\u001b[39m] \u001b[39m=\u001b[39m s\u001b[39m.\u001b[39mdecode()\n\u001b[0;32m    235\u001b[0m \u001b[39mself\u001b[39m\u001b[39m.\u001b[39mfmd \u001b[39m=\u001b[39m fmd\n\u001b[1;32m--> 236\u001b[0m \u001b[39mself\u001b[39;49m\u001b[39m.\u001b[39;49m_set_attrs()\n",
      "File \u001b[1;32mc:\\Users\\Vendor\\AppData\\Local\\Programs\\Python\\Python311\\Lib\\site-packages\\fastparquet\\api.py:250\u001b[0m, in \u001b[0;36mParquetFile._set_attrs\u001b[1;34m(self)\u001b[0m\n\u001b[0;32m    245\u001b[0m \u001b[39mself\u001b[39m\u001b[39m.\u001b[39mselfmade \u001b[39m=\u001b[39m (\n\u001b[0;32m    246\u001b[0m     \u001b[39mb\u001b[39m\u001b[39m\"\u001b[39m\u001b[39mfastparquet\u001b[39m\u001b[39m\"\u001b[39m \u001b[39min\u001b[39;00m \u001b[39mself\u001b[39m\u001b[39m.\u001b[39mcreated_by \u001b[39mif\u001b[39;00m \u001b[39mself\u001b[39m\u001b[39m.\u001b[39mcreated_by \u001b[39mis\u001b[39;00m \u001b[39mnot\u001b[39;00m \u001b[39mNone\u001b[39;00m\n\u001b[0;32m    247\u001b[0m     \u001b[39melse\u001b[39;00m \u001b[39mFalse\u001b[39;00m\n\u001b[0;32m    248\u001b[0m )\n\u001b[0;32m    249\u001b[0m \u001b[39mself\u001b[39m\u001b[39m.\u001b[39m_read_partitions()\n\u001b[1;32m--> 250\u001b[0m \u001b[39mself\u001b[39;49m\u001b[39m.\u001b[39;49m_dtypes()\n",
      "File \u001b[1;32mc:\\Users\\Vendor\\AppData\\Local\\Programs\\Python\\Python311\\Lib\\site-packages\\fastparquet\\api.py:961\u001b[0m, in \u001b[0;36mParquetFile._dtypes\u001b[1;34m(self, categories)\u001b[0m\n\u001b[0;32m    959\u001b[0m z \u001b[39m=\u001b[39m dataframe\u001b[39m.\u001b[39mtz_to_dt_tz(tz[col])\n\u001b[0;32m    960\u001b[0m \u001b[39mif\u001b[39;00m PANDAS_VERSION\u001b[39m.\u001b[39mmajor \u001b[39m>\u001b[39m\u001b[39m=\u001b[39m \u001b[39m2\u001b[39m:\n\u001b[1;32m--> 961\u001b[0m     dt \u001b[39m=\u001b[39m pd\u001b[39m.\u001b[39;49mSeries([], dtype\u001b[39m=\u001b[39;49mdt)\u001b[39m.\u001b[39;49mdt\u001b[39m.\u001b[39;49mtz_convert(z)\u001b[39m.\u001b[39mdtype\n\u001b[0;32m    962\u001b[0m \u001b[39melse\u001b[39;00m:\n\u001b[0;32m    963\u001b[0m     dt \u001b[39m=\u001b[39m pd\u001b[39m.\u001b[39mSeries([], dtype\u001b[39m=\u001b[39mdt)\u001b[39m.\u001b[39mdt\u001b[39m.\u001b[39mtz_localize(z)\u001b[39m.\u001b[39mdtype\n",
      "File \u001b[1;32mc:\\Users\\Vendor\\AppData\\Local\\Programs\\Python\\Python311\\Lib\\site-packages\\pandas\\core\\accessor.py:112\u001b[0m, in \u001b[0;36mPandasDelegate._add_delegate_accessors.<locals>._create_delegator_method.<locals>.f\u001b[1;34m(self, *args, **kwargs)\u001b[0m\n\u001b[0;32m    111\u001b[0m \u001b[39mdef\u001b[39;00m \u001b[39mf\u001b[39m(\u001b[39mself\u001b[39m, \u001b[39m*\u001b[39margs, \u001b[39m*\u001b[39m\u001b[39m*\u001b[39mkwargs):\n\u001b[1;32m--> 112\u001b[0m     \u001b[39mreturn\u001b[39;00m \u001b[39mself\u001b[39;49m\u001b[39m.\u001b[39;49m_delegate_method(name, \u001b[39m*\u001b[39;49margs, \u001b[39m*\u001b[39;49m\u001b[39m*\u001b[39;49mkwargs)\n",
      "File \u001b[1;32mc:\\Users\\Vendor\\AppData\\Local\\Programs\\Python\\Python311\\Lib\\site-packages\\pandas\\core\\indexes\\accessors.py:128\u001b[0m, in \u001b[0;36mProperties._delegate_method\u001b[1;34m(self, name, *args, **kwargs)\u001b[0m\n\u001b[0;32m    125\u001b[0m values \u001b[39m=\u001b[39m \u001b[39mself\u001b[39m\u001b[39m.\u001b[39m_get_values()\n\u001b[0;32m    127\u001b[0m method \u001b[39m=\u001b[39m \u001b[39mgetattr\u001b[39m(values, name)\n\u001b[1;32m--> 128\u001b[0m result \u001b[39m=\u001b[39m method(\u001b[39m*\u001b[39;49margs, \u001b[39m*\u001b[39;49m\u001b[39m*\u001b[39;49mkwargs)\n\u001b[0;32m    130\u001b[0m \u001b[39mif\u001b[39;00m \u001b[39mnot\u001b[39;00m is_list_like(result):\n\u001b[0;32m    131\u001b[0m     \u001b[39mreturn\u001b[39;00m result\n",
      "File \u001b[1;32mc:\\Users\\Vendor\\AppData\\Local\\Programs\\Python\\Python311\\Lib\\site-packages\\pandas\\core\\indexes\\datetimes.py:269\u001b[0m, in \u001b[0;36mDatetimeIndex.tz_convert\u001b[1;34m(self, tz)\u001b[0m\n\u001b[0;32m    267\u001b[0m \u001b[39m@doc\u001b[39m(DatetimeArray\u001b[39m.\u001b[39mtz_convert)\n\u001b[0;32m    268\u001b[0m \u001b[39mdef\u001b[39;00m \u001b[39mtz_convert\u001b[39m(\u001b[39mself\u001b[39m, tz) \u001b[39m-\u001b[39m\u001b[39m>\u001b[39m DatetimeIndex:\n\u001b[1;32m--> 269\u001b[0m     arr \u001b[39m=\u001b[39m \u001b[39mself\u001b[39;49m\u001b[39m.\u001b[39;49m_data\u001b[39m.\u001b[39;49mtz_convert(tz)\n\u001b[0;32m    270\u001b[0m     \u001b[39mreturn\u001b[39;00m \u001b[39mtype\u001b[39m(\u001b[39mself\u001b[39m)\u001b[39m.\u001b[39m_simple_new(arr, name\u001b[39m=\u001b[39m\u001b[39mself\u001b[39m\u001b[39m.\u001b[39mname, refs\u001b[39m=\u001b[39m\u001b[39mself\u001b[39m\u001b[39m.\u001b[39m_references)\n",
      "File \u001b[1;32mc:\\Users\\Vendor\\AppData\\Local\\Programs\\Python\\Python311\\Lib\\site-packages\\pandas\\core\\arrays\\datetimes.py:867\u001b[0m, in \u001b[0;36mDatetimeArray.tz_convert\u001b[1;34m(self, tz)\u001b[0m\n\u001b[0;32m    863\u001b[0m tz \u001b[39m=\u001b[39m timezones\u001b[39m.\u001b[39mmaybe_get_tz(tz)\n\u001b[0;32m    865\u001b[0m \u001b[39mif\u001b[39;00m \u001b[39mself\u001b[39m\u001b[39m.\u001b[39mtz \u001b[39mis\u001b[39;00m \u001b[39mNone\u001b[39;00m:\n\u001b[0;32m    866\u001b[0m     \u001b[39m# tz naive, use tz_localize\u001b[39;00m\n\u001b[1;32m--> 867\u001b[0m     \u001b[39mraise\u001b[39;00m \u001b[39mTypeError\u001b[39;00m(\n\u001b[0;32m    868\u001b[0m         \u001b[39m\"\u001b[39m\u001b[39mCannot convert tz-naive timestamps, use tz_localize to localize\u001b[39m\u001b[39m\"\u001b[39m\n\u001b[0;32m    869\u001b[0m     )\n\u001b[0;32m    871\u001b[0m \u001b[39m# No conversion since timestamps are all UTC to begin with\u001b[39;00m\n\u001b[0;32m    872\u001b[0m dtype \u001b[39m=\u001b[39m tz_to_dtype(tz, unit\u001b[39m=\u001b[39m\u001b[39mself\u001b[39m\u001b[39m.\u001b[39munit)\n",
      "\u001b[1;31mTypeError\u001b[0m: Cannot convert tz-naive timestamps, use tz_localize to localize"
     ]
    }
   ],
   "source": [
    "hi = pd.read_parquet(\"options/Nifty_31032022.parquet\")"
   ]
  },
  {
   "cell_type": "code",
   "execution_count": null,
   "metadata": {},
   "outputs": [],
   "source": []
  }
 ],
 "metadata": {
  "kernelspec": {
   "display_name": "Python 3",
   "language": "python",
   "name": "python3"
  },
  "language_info": {
   "codemirror_mode": {
    "name": "ipython",
    "version": 3
   },
   "file_extension": ".py",
   "mimetype": "text/x-python",
   "name": "python",
   "nbconvert_exporter": "python",
   "pygments_lexer": "ipython3",
   "version": "3.11.3"
  },
  "orig_nbformat": 4
 },
 "nbformat": 4,
 "nbformat_minor": 2
}
